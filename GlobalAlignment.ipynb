{
  "nbformat": 4,
  "nbformat_minor": 0,
  "metadata": {
    "colab": {
      "private_outputs": true,
      "provenance": []
    },
    "kernelspec": {
      "name": "python3",
      "display_name": "Python 3"
    },
    "language_info": {
      "name": "python"
    }
  },
  "cells": [
    {
      "cell_type": "code",
      "source": [
        "#نادين اشرف كمال مغربي\n",
        "#هبة الله محمد ممدوح\n",
        "#ريم وليد علي الشناوي\n",
        "#مصطفي عادل ذكريا حسن\n",
        "#مريم ايمن محمد السيد"
      ],
      "metadata": {
        "id": "16GW4CyhjTOa"
      },
      "execution_count": null,
      "outputs": []
    },
    {
      "cell_type": "code",
      "source": [
        "import numpy as np\n",
        "import pandas as pd\n",
        "import itertools\n",
        "from itertools import permutations\n",
        "import io\n",
        "from google.colab import files\n",
        "uploaded = files.upload()\n",
        "BlosumMatrix = pd.read_csv(io.BytesIO(uploaded['blosum62.csv']))\n",
        "print(BlosumMatrix)"
      ],
      "metadata": {
        "id": "-_19vxpjJ_AS"
      },
      "execution_count": null,
      "outputs": []
    },
    {
      "cell_type": "code",
      "source": [
        "def BlosumDictionary(matrix):\n",
        "    AminoAcids_Scores=BlosumMatrix.values.tolist() #convert to list that contains 24 lists\n",
        "    charVecs = [] #empty list\n",
        "    for ch in range(0,2):\n",
        "        charVecs.append(list(matrix.index))\n",
        "    AminoAcidLetters1 = charVecs[0] #first letters in csv file\n",
        "    AminoAcidLetters2 = charVecs[1] #second letters in csv file\n",
        "    AminoAcidCombined= list(itertools.product(AminoAcidLetters1,AminoAcidLetters2)) #all possible combinations\n",
        "    K = 24 #rows in csv file\n",
        "    AminoAcidKeys= []\n",
        "    for idx in range(0, K):#to make the amino acid list of list\n",
        "        AminoAcidKeys.append( AminoAcidCombined[idx::K]) #reverse combination\n",
        "    BlosumDictionary=dict(zip(AminoAcidKeys[0],AminoAcids_Scores[0]))#?????????\n",
        "    for i in range(1,24):\n",
        "        IteratedDictionary= dict(zip(AminoAcidKeys[i],AminoAcids_Scores[i]))\n",
        "        BlosumDictionary.update(IteratedDictionary)\n",
        "    return BlosumDictionary"
      ],
      "metadata": {
        "id": "HIvxkfAu1NAS"
      },
      "execution_count": null,
      "outputs": []
    },
    {
      "cell_type": "code",
      "source": [
        "blosumScore=BlosumDictionary(BlosumMatrix)"
      ],
      "metadata": {
        "id": "dkIibpZkCJQa"
      },
      "execution_count": null,
      "outputs": []
    },
    {
      "cell_type": "code",
      "source": [
        "def split(string):\n",
        "  return list(string)"
      ],
      "metadata": {
        "id": "mBa3BvZlEsVI"
      },
      "execution_count": null,
      "outputs": []
    },
    {
      "cell_type": "code",
      "source": [
        "def tracebackDNA(Matrix,rowNum,colNum,seq1,seq2):\n",
        "    GAFirst =\"\"\n",
        "    GASecond=\"\"\n",
        "    GAMatch=\"\"\n",
        "    row = rowNum #row\n",
        "    column = colNum #col\n",
        "    while row > 0 and column > 0:\n",
        "        up = Matrix[row-1][column]-1\n",
        "        left=Matrix[row][column-1]-1\n",
        "        if  seq1[column-1]==seq2[row-1]:\n",
        "            score=1\n",
        "        else:\n",
        "            score=-2\n",
        "        diagonal = Matrix[row-1][column-1]+score\n",
        "        if Matrix[row][column]==diagonal:\n",
        "            GAFirst+=seq1[column-1] #adds letters from first sequence\n",
        "            GASecond+=seq2[row-1] #adds letters from second sequence\n",
        "            if score==1:\n",
        "                GAMatch+=\"|\"\n",
        "            else:\n",
        "                GAMatch+=\" \"\n",
        "            row-=1\n",
        "            column-=1 #leave row and column\n",
        "        elif Matrix[row][column] == up:\n",
        "            GAFirst+=\"-\"\n",
        "            GAMatch+=\" \"\n",
        "            GASecond+=seq2[row-1]\n",
        "            row-=1 #leave row\n",
        "        else:\n",
        "            GAFirst+=seq1[column-1]\n",
        "            GASecond+=\"-\"\n",
        "            GAMatch+=\" \"\n",
        "            column-=1 #leave column\n",
        "\n",
        "    while (row>0):\n",
        "        GAFirst+=\"-\"\n",
        "        GASecond+=seq2[row-1]\n",
        "        GAMatch+=\" \"\n",
        "        row-=1\n",
        "    while(column>0):\n",
        "        GAFirst+=seq1[column-1]\n",
        "        GASecond+=\"-\"\n",
        "        GAMatch+=\" \"\n",
        "        column-=1\n",
        "\n",
        "    GAFirst=GAFirst[::-1] #prints letters in correct order (reversed)\n",
        "    GAMatch=GAMatch[::-1]\n",
        "    GASecond=GASecond[::-1]\n",
        "    print(\"Traceback of this DNA sequence:\")\n",
        "    print(GAFirst)\n",
        "    print(GAMatch)\n",
        "    print(GASecond)\n"
      ],
      "metadata": {
        "id": "WJLnn9ePKC8U"
      },
      "execution_count": null,
      "outputs": []
    },
    {
      "cell_type": "code",
      "source": [
        "def tracebackProtein(Matrix,rowNum,colNum,seq1,seq2):\n",
        "    GAFirst =\"\"\n",
        "    GASecond=\"\"\n",
        "    row = rowNum #row\n",
        "    column = colNum #col\n",
        "    if row > column:\n",
        "              MinLength = column\n",
        "    else:\n",
        "              MinLength = row\n",
        "    splitSeq1= split(seq1)\n",
        "    splitSeq2= split(seq2)\n",
        "    while row > 0 and column > 0:\n",
        "          up = Matrix[row-1][column]-1\n",
        "          left=Matrix[row][column-1]-1\n",
        "          for x in range(MinLength):\n",
        "            diagonal = Matrix[row-1][column-1]+blosumScore[(splitSeq2[row-1],splitSeq1[column-1])]\n",
        "          if Matrix[row][column]==diagonal:\n",
        "            GAFirst+=seq1[column-1]\n",
        "            GASecond+=seq2[row-1]\n",
        "            row-=1\n",
        "            column-=1\n",
        "          elif Matrix[row][column] == up:\n",
        "            GAFirst+=\"-\"\n",
        "            GASecond+=seq2[row-1]\n",
        "            row-=1\n",
        "          else:\n",
        "            GAFirst+=seq1[column-1]\n",
        "            GASecond+=\"-\"\n",
        "            column-=1\n",
        "    while (row>0):\n",
        "        GAFirst+=\"-\"\n",
        "        GASecond+=seq2[row-1]\n",
        "        row-=1\n",
        "    while(column>0):\n",
        "        GAFirst+=seq1[column-1]\n",
        "        GASecond+=\"-\"\n",
        "        column-=1\n",
        "    GAFirst=GAFirst[::-1]\n",
        "    GASecond=GASecond[::-1]\n",
        "    print(\"Traceback of this protein sequence:\")\n",
        "    print(GAFirst)\n",
        "    print(GASecond)"
      ],
      "metadata": {
        "id": "BPb0dadRKchx"
      },
      "execution_count": null,
      "outputs": []
    },
    {
      "cell_type": "code",
      "execution_count": null,
      "metadata": {
        "id": "R1Zk3Z_eL_sV"
      },
      "outputs": [],
      "source": [
        "def globalAlignmentDNA(seq1, seq2):\n",
        "    lengthOfFirstSeq=len(seq1) #what represents columns\n",
        "    lengthOfSecondSeq=len(seq2) #what represents rows\n",
        "    Matrix = [[0 for row in range(lengthOfFirstSeq+1)] for column in range(lengthOfSecondSeq+1)] #fill matrix with zeros\n",
        "    print(\"Shape of Matrix is : \"+str(np.shape(Matrix)))\n",
        "    for row in range (lengthOfSecondSeq+1):\n",
        "        Matrix[row][0]=-row #fixed column and adding gaps to every row in that column\n",
        "    for column in range (lengthOfFirstSeq+1):\n",
        "        Matrix[0][column] =-column #fixed row and adding gaps to every column in that row\n",
        "    for row in range(1,lengthOfSecondSeq+1,1):\n",
        "        for column in range(1,lengthOfFirstSeq+1,1):\n",
        "            if seq1[column-1] == seq2[row-1]:  #to see if a letter matches the other and sets the score\n",
        "                score = 1#matchvalue\n",
        "            else :\n",
        "                score =-2 #mismatchvalue\n",
        "            Matrix[row][column] = max(Matrix[row-1][column]-1, Matrix[row][column-1]-1,Matrix[row-1][column-1]+score)\n",
        "    for row in range (lengthOfSecondSeq+1):\n",
        "            for column in range (lengthOfFirstSeq+1):\n",
        "                print(Matrix[row][column],end=\"\")\n",
        "            print(\"\\n\")\n",
        "    print(\"Score: \",Matrix[row][column])\n",
        "    tracebackDNA(Matrix,row,column,seq1,seq2)\n"
      ]
    },
    {
      "cell_type": "code",
      "source": [
        "def globalAlignmentProtein(Seq1,Seq2):\n",
        "  lengthOfFirstSeq=len(Seq1)\n",
        "  lengthOfSecondSeq=len(Seq2)\n",
        "  Matrix = [[0 for row in range(lengthOfFirstSeq+1)] for columns in range(lengthOfSecondSeq+1)]\n",
        "  print(\"Shape of Matrix is : \"+str(np.shape(Matrix)))\n",
        "  for row in range (lengthOfSecondSeq+1):\n",
        "        Matrix[row][0]=-row #fixed column and adding gaps to every row in that column\n",
        "  for columns in range (lengthOfFirstSeq+1):\n",
        "        Matrix[0][columns]=-columns #fixed row and adding gaps to every column in that column\n",
        "  splitSeq1= split(Seq1)\n",
        "  splitSeq2= split(Seq2)\n",
        "  for row in range(1,lengthOfSecondSeq+1,1):\n",
        "      for column in range(1,lengthOfFirstSeq+1,1): #hena mesh ha2dr a7otha ashan kda hyw2f kolo mesh bs el diagonal\n",
        "          Matrix[row][column] = max(Matrix[row-1][column]-1, Matrix[row][column-1]-1,Matrix[row-1][column-1]+blosumScore[(splitSeq1[column-1],splitSeq2[row-1])])\n",
        "  for row in range (lengthOfSecondSeq+1):\n",
        "            for col in range (lengthOfFirstSeq+1):\n",
        "                print(Matrix[row][col],end=\"\")\n",
        "            print(\"\\n\")\n",
        "  print(\"Score: \",Matrix[row][column])\n",
        "  print(\"row: \",row, \"column: \",column)\n",
        "  tracebackProtein(Matrix,row,column,Seq1,Seq2)"
      ],
      "metadata": {
        "id": "vvbMKb1d0FDX"
      },
      "execution_count": null,
      "outputs": []
    },
    {
      "cell_type": "code",
      "source": [
        "def correctFormat(Seq1,Seq2,seqCheck):\n",
        "  correctSeq1=all(characters in seqCheck for characters in Seq1) #checks if all characters in entered sequence has the allowed\n",
        "  correctSeq2=all(characters in seqCheck for characters in Seq2) #seqCheck sent from checkSequence function\n",
        "  return correctSeq1 and correctSeq2 #sends true if both are correct"
      ],
      "metadata": {
        "id": "UAbz5yBHKjHt"
      },
      "execution_count": null,
      "outputs": []
    },
    {
      "cell_type": "code",
      "source": [
        "def checkSequence(typeSeq):\n",
        "  if typeSeq==\"1\":\n",
        "    Seq1=input(\"Enter First Sequence \").upper()\n",
        "    Seq2=input(\"Enter Second Sequence \").upper()\n",
        "    DNAseq='ACTG'\n",
        "    correct=correctFormat(Seq1,Seq2,DNAseq) #send the sequences and which sequence format it should have (DNA or Protein Letters)\n",
        "    if(correct==True):\n",
        "      globalAlignmentDNA(Seq1,Seq2)\n",
        "    else:\n",
        "      print('Invalid sequence')\n",
        "      checkSequence(typeSeq)\n",
        "  elif typeSeq==\"2\":\n",
        "    Seq1=input(\"Enter First Sequence \").upper()\n",
        "    Seq2=input(\"Enter Second Sequence \").upper()\n",
        "    proteinSeq='ABCDEFGHIKLMNPQRSTVWY'\n",
        "    correct=correctFormat(Seq1,Seq2,proteinSeq)\n",
        "    if(correct==True):\n",
        "        globalAlignmentProtein(Seq1,Seq2)\n",
        "    else:\n",
        "        print('Invalid sequence')\n",
        "        checkSequence(typeSeq)\n",
        "  else:\n",
        "    print(\"Option isn't valid\")"
      ],
      "metadata": {
        "id": "y4dl0v7aKWbe"
      },
      "execution_count": null,
      "outputs": []
    },
    {
      "cell_type": "code",
      "source": [
        "print(\"Global ALignment\")\n",
        "typeSeq = input(\"1- DNA , 2-Amino Acid \")\n",
        "checkSequence(typeSeq)"
      ],
      "metadata": {
        "id": "i_Piyv73KN8j"
      },
      "execution_count": null,
      "outputs": []
    }
  ]
}