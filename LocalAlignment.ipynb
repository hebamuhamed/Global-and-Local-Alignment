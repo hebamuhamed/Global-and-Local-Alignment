{
  "nbformat": 4,
  "nbformat_minor": 0,
  "metadata": {
    "colab": {
      "private_outputs": true,
      "provenance": []
    },
    "kernelspec": {
      "name": "python3",
      "display_name": "Python 3"
    },
    "language_info": {
      "name": "python"
    }
  },
  "cells": [
    {
      "cell_type": "code",
      "source": [
        "#نادين اشرف كمال مغربي\n",
        "#هبة الله محمد ممدوح\n",
        "#ريم وليد علي الشناوي\n",
        "#مصطفي عادل ذكريا حسن\n",
        "#مريم ايمن محمد السيد"
      ],
      "metadata": {
        "id": "-YexMJ8Bi35I"
      },
      "execution_count": null,
      "outputs": []
    },
    {
      "cell_type": "code",
      "source": [
        "import numpy as np\n",
        "import pandas as pd\n",
        "import itertools\n",
        "from itertools import permutations\n",
        "import io\n",
        "from google.colab import files\n",
        "from numpy.core.fromnumeric import diagonal\n",
        "uploaded = files.upload()\n",
        "BlosumMatrix = pd.read_csv(io.BytesIO(uploaded['blosum62.csv']))\n",
        "print(BlosumMatrix)"
      ],
      "metadata": {
        "id": "2nHey1KpAsdB"
      },
      "execution_count": null,
      "outputs": []
    },
    {
      "cell_type": "code",
      "source": [
        "def BlosumDictionary(matrix):\n",
        "    AminoAcids_Scores=BlosumMatrix.values.tolist() #convert to list that contains 24 lists\n",
        "    charVecs = []#empty list\n",
        "    for ch in range(0,2):\n",
        "        charVecs.append(list(matrix.index))\n",
        "    AminoAcidLetters1 = charVecs[0] #first letters in csv file\n",
        "    AminoAcidLetters2 = charVecs[1] #second letters in csv file\n",
        "    AminoAcidCombined= list(itertools.product(AminoAcidLetters1,AminoAcidLetters2))\n",
        "    K = 24 #rows in csv file\n",
        "    AminoAcidKeys= []\n",
        "    for idx in range(0, K):#to make the amino acid list of list\n",
        "        AminoAcidKeys.append( AminoAcidCombined[idx::K]) #reverse combination\n",
        "    BlosumDictionary=dict(zip(AminoAcidKeys[0],AminoAcids_Scores[0]))\n",
        "    for i in range(1,24):\n",
        "        IteratedDictionary= dict(zip(AminoAcidKeys[i],AminoAcids_Scores[i]))\n",
        "\n",
        "        BlosumDictionary.update(IteratedDictionary)\n",
        "    return BlosumDictionary"
      ],
      "metadata": {
        "id": "iVbxZEQsAlJD"
      },
      "execution_count": null,
      "outputs": []
    },
    {
      "cell_type": "code",
      "source": [
        "blosumScore=BlosumDictionary(BlosumMatrix)"
      ],
      "metadata": {
        "id": "Muq2TWFH5nHU"
      },
      "execution_count": null,
      "outputs": []
    },
    {
      "cell_type": "code",
      "source": [
        "def split(string):\n",
        "  return list(string)"
      ],
      "metadata": {
        "id": "NBU-vGUXxpuz"
      },
      "execution_count": null,
      "outputs": []
    },
    {
      "cell_type": "code",
      "source": [
        "def tracebackDNA(rowNum,colNum,Seq1,Seq2,Matrix):\n",
        "  row=rowNum\n",
        "  column=colNum\n",
        "  LAFirst =\"\"\n",
        "  LASecond=\"\"\n",
        "  LAMatch=\"\"\n",
        "  while row > 0 and column > 0:\n",
        "      up = Matrix[row-1][column]-1\n",
        "      if up<0: up=0\n",
        "      left = Matrix[row][column-1]-1\n",
        "      if left<0: left=0\n",
        "      if Seq1[column-1]==Seq2[row-1]:\n",
        "        score=1\n",
        "      else:\n",
        "        score=-1\n",
        "      diagonal = Matrix[row-1][column-1]+score\n",
        "      if diagonal<0: diagonal=0\n",
        "      if Matrix[row][column]==diagonal:\n",
        "        LAFirst+=Seq1[column-1]  #adds letters from first sequence\n",
        "        LASecond+=Seq2[row-1] #adds letters from second sequence\n",
        "        if score==1:\n",
        "          LAMatch+=\"|\"\n",
        "        else:\n",
        "          LAMatch+=\" \"\n",
        "        row-=1 #leave row\n",
        "        column-=1 #leave column\n",
        "      elif Matrix[row][column] == up:\n",
        "        LAFirst+=\"-\"\n",
        "        LAMatch+=\" \"\n",
        "        LASecond+=Seq2[row-1]\n",
        "        row-=1 #leave row\n",
        "      else:\n",
        "        LAFirst+=Seq1[column-1]\n",
        "        LASecond+=\"-\"\n",
        "        LAMatch+=\" \"\n",
        "        column-=1 #leave column\n",
        "  while (row>0):\n",
        "        LAFirst+=\"-\"\n",
        "        LASecond+=Seq2[row-1]\n",
        "        LAMatch+=\" \"\n",
        "        row-=1\n",
        "  while(column>0):\n",
        "        LAFirst+=Seq1[column-1]\n",
        "        LASecond+=\"-\"\n",
        "        LAMatch+=\" \"\n",
        "        column-=1\n",
        "\n",
        "  LAFirst=LAFirst[::-1] #prints letters in correct order (reversed)\n",
        "  LAMatch=LAMatch[::-1]\n",
        "  LASecond=LASecond[::-1]\n",
        "  print(\"Traceback of this DNA sequence:\")\n",
        "  print(LAFirst)\n",
        "  print(LAMatch)\n",
        "  print(LASecond)\n"
      ],
      "metadata": {
        "id": "R7niZqqrBWPo"
      },
      "execution_count": null,
      "outputs": []
    },
    {
      "cell_type": "code",
      "source": [
        "def tracebackProtein(rowEnd,columnEnd,Seq1,Seq2,Matrix):\n",
        "    LAFirst =\"\"\n",
        "    LASecond=\"\"\n",
        "    row=rowEnd\n",
        "    column=columnEnd\n",
        "    if row > column:\n",
        "              MinLength = column\n",
        "    else:\n",
        "              MinLength = row\n",
        "    splitSeq1= split(Seq1)\n",
        "    splitSeq2= split(Seq2)\n",
        "    while row > 0 and column > 0:\n",
        "          up = Matrix[row-1][column]-1\n",
        "          if up<0:\n",
        "            up=0\n",
        "          left=Matrix[row][column-1]-1\n",
        "          if left<0:\n",
        "            left =0\n",
        "          for i in range(MinLength):\n",
        "            diagonal = Matrix[row-1][column-1]+blosumScore[(splitSeq1[column-1],splitSeq2[row-1])]\n",
        "          if diagonal<0:\n",
        "            diagonal=0\n",
        "          if Matrix[row][column]==diagonal:\n",
        "            LAFirst+=Seq1[column-1]\n",
        "            LASecond+=Seq2[row-1]\n",
        "            row-=1\n",
        "            column-=1\n",
        "          elif Matrix[row][column] == up:\n",
        "            LAFirst+=\"-\"\n",
        "            LASecond+=Seq2[row-1]\n",
        "            row-=1\n",
        "          else:\n",
        "            LAFirst+=Seq1[column-1]\n",
        "            LASecond+=\"-\"\n",
        "            column-=1\n",
        "    while (row>0):\n",
        "        LAFirst+=\"-\"\n",
        "        LASecond+=Seq2[row-1]\n",
        "        row-=1\n",
        "    while(column>0):\n",
        "        LAFirst+=Seq1[column-1]\n",
        "        LASecond+=\"-\"\n",
        "        column-=1\n",
        "\n",
        "    LAFirst=LAFirst[::-1]\n",
        "    LASecond=LASecond[::-1]\n",
        "    print(\"Traceback of this protein sequence:\")\n",
        "    print(LAFirst)\n",
        "    print(LASecond)"
      ],
      "metadata": {
        "id": "tUQzZ7CJYgJv"
      },
      "execution_count": null,
      "outputs": []
    },
    {
      "cell_type": "code",
      "execution_count": null,
      "metadata": {
        "id": "bQNMwkVIMY4p"
      },
      "outputs": [],
      "source": [
        "def localAlignmentDNA(Seq1,Seq2):\n",
        "        lengthOfFirstSeq=len(Seq1)  #what represents columns\n",
        "        lengthOfSecondSeq=len(Seq2) #what represents rows\n",
        "        Matrix = [[0 for row in range(lengthOfFirstSeq+1)] for columns in range(lengthOfSecondSeq+1)]\n",
        "        print(\"Shape of Matrix is : \"+str(np.shape(Matrix)))\n",
        "        for row in range (lengthOfSecondSeq+1):\n",
        "            Matrix[row][0]=0 #fixed column and adding gaps to every row in that column\n",
        "        for columns in range (lengthOfFirstSeq+1):\n",
        "            Matrix[0][columns]=0  #fixed row and adding gaps to every column in that row\n",
        "        for row in range(1,lengthOfSecondSeq+1,1):\n",
        "            for column in range(1,lengthOfFirstSeq+1,1):\n",
        "                if Seq1[column -1] == Seq2[row-1]: #to see if a letter matches the other and sets the score\n",
        "                    score = 1\n",
        "                else :\n",
        "                    score =-1\n",
        "                Matrix[row][column] = max(0,Matrix[row-1][column]-1, Matrix[row][column-1]-1,Matrix[row-1][column-1]+score)\n",
        "                #\n",
        "        for row in range (lengthOfSecondSeq+1):\n",
        "            for col in range (lengthOfFirstSeq+1):\n",
        "                print(Matrix[row][col],end=\"\")\n",
        "            print(\"\\n\")\n",
        "        list=[]\n",
        "        dict={}\n",
        "        for row in range(lengthOfSecondSeq+1):\n",
        "            a_row = Matrix[row] # taking each row in a variable\n",
        "            max_value = max(a_row) # find max value in a single row\n",
        "            colindex = a_row.index(max_value) # find the max value's index of a single row\n",
        "            list.append(max_value)\n",
        "            dict[row]=colindex # has row(as key) and column index(as value) of every max in each row\n",
        "            print(\"The max value \",max_value, \" and Index in \",colindex,\"The row\",row)\n",
        "        print(list)\n",
        "        print(dict)\n",
        "        max_value = max(list)\n",
        "        max_index = list.index(max_value)\n",
        "        row=max_index #assigns index of max to \"row\"\n",
        "        col=dict[max_index] #assigns key of max to \"col\"\n",
        "        print(\"Row where max: \",row)\n",
        "        print(\"Col where max: \",col)\n",
        "        score= Matrix[row][col]\n",
        "        print(\"Score: \" ,score)\n",
        "        tracebackDNA(row,col,Seq1,Seq2,Matrix)\n"
      ]
    },
    {
      "cell_type": "code",
      "source": [
        "def localAlignmentProtein(Seq1,Seq2):\n",
        "  lengthOfFirstSeq=len(Seq1) #what represents columns\n",
        "  lengthOfSecondSeq=len(Seq2) #what represents rows\n",
        "  Matrix = [[0 for row in range(lengthOfFirstSeq+1)] for columns in range(lengthOfSecondSeq+1)]\n",
        "  print(\"Shape of Matrix is : \"+str(np.shape(Matrix)))\n",
        "  for row in range (lengthOfSecondSeq+1):\n",
        "        Matrix[row][0]=0 #fixed column and adding gaps to every row in that column\n",
        "  for columns in range (lengthOfFirstSeq+1):\n",
        "        Matrix[0][columns]=0  #fixed row and adding gaps to every column in that row\n",
        "  splitSeq1= split(Seq1)\n",
        "  splitSeq2= split(Seq2)\n",
        "  for row in range(1,lengthOfSecondSeq+1,1):\n",
        "      for column in range(1,lengthOfFirstSeq+1,1):\n",
        "          Matrix[row][column] = max(0,Matrix[row-1][column]-1, Matrix[row][column-1]-1,Matrix[row-1][column-1]+blosumScore[(splitSeq1[column-1],splitSeq2[row-1])])\n",
        "  for row in range (lengthOfSecondSeq+1):\n",
        "            for col in range (lengthOfFirstSeq+1):\n",
        "                print(Matrix[row][col],end=\"\")\n",
        "            print(\"\\n\")\n",
        "  list=[]\n",
        "  dict={}\n",
        "  for i in range(lengthOfSecondSeq+1):\n",
        "            a_row = Matrix[i] # taking each row in a variable\n",
        "            max_value = max(a_row) # find max value in a single row\n",
        "            colindex = a_row.index(max_value) # find the max value's index of a single row\n",
        "            list.append(max_value)\n",
        "            dict[i]=colindex # has row(as key) and column index(as value) of every max in each row\n",
        "            print(\"The max value \",max_value, \" and Index in \",colindex,\"The row\",i)\n",
        "  print(list)\n",
        "  print(dict)\n",
        "  max_value = max(list)\n",
        "  max_index = list.index(max_value)\n",
        "  rowEnd=max_index #assigns index of max to \"row\"\n",
        "  colEnd=dict[max_index] #assigns key of max to \"col\"\n",
        "  print(\"Row where max: \",rowEnd)\n",
        "  print(\"Col where max: \",colEnd)\n",
        "  score= Matrix[rowEnd][colEnd]\n",
        "  print(\"Score: \" ,score)\n",
        "  tracebackProtein(rowEnd,colEnd,Seq1,Seq2,Matrix) #sends max in matrix to start from at traceback\n",
        "\n",
        ""
      ],
      "metadata": {
        "id": "kg-VfsuSA19x"
      },
      "execution_count": null,
      "outputs": []
    },
    {
      "cell_type": "code",
      "source": [
        "def correctFormat(Seq1,Seq2,seqCheck):\n",
        "  correct1=all(characters in seqCheck for characters in Seq1)\n",
        "  correct2=all(characters in seqCheck for characters in Seq2)\n",
        "  return correct1 and correct2 #sends true if both are correct"
      ],
      "metadata": {
        "id": "0qvVF3eXBNxE"
      },
      "execution_count": null,
      "outputs": []
    },
    {
      "cell_type": "code",
      "source": [
        "def checkSequence(typeSeq):\n",
        "  if typeSeq==\"1\":\n",
        "    Seq1=input(\"Enter First Sequence \").upper()\n",
        "    Seq2=input(\"Enter Second Sequence \").upper()\n",
        "    DNAseq='ACTG'\n",
        "    correct=correctFormat(Seq1,Seq2,DNAseq)\n",
        "    if(correct==True):\n",
        "      localAlignmentDNA(Seq1,Seq2)\n",
        "    else:\n",
        "      print(\"Invalid sequence\")\n",
        "      checkSequence(typeSeq)\n",
        "\n",
        "  elif typeSeq==\"2\":\n",
        "    Seq1=input(\"Enter First Sequence \").upper()\n",
        "    Seq2=input(\"Enter Second Sequence \").upper()\n",
        "    proteinSeq='ACDBEFGHIKLMNPQRSTVWY'\n",
        "    correct=correctFormat(Seq1,Seq2,proteinSeq) #send the sequences and which sequence format it should have (DNA or Protein Letters)\n",
        "    if(correct==True):\n",
        "        localAlignmentProtein(Seq1,Seq2)\n",
        "    else:\n",
        "        print('Invalid sequence')\n",
        "        checkSequence(typeSeq)"
      ],
      "metadata": {
        "id": "Z6xU8DmivuvL"
      },
      "execution_count": null,
      "outputs": []
    },
    {
      "cell_type": "code",
      "source": [
        "print(\"Local Alignment\")\n",
        "typeSeq = input(\"1-DNA , 2-Amino Acid \")\n",
        "checkSequence(typeSeq)"
      ],
      "metadata": {
        "id": "ZV20ie0y-ukW"
      },
      "execution_count": null,
      "outputs": []
    }
  ]
}